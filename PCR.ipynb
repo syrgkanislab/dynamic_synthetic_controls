{
 "cells": [
  {
   "cell_type": "code",
   "execution_count": null,
   "id": "28918a40",
   "metadata": {},
   "outputs": [],
   "source": [
    "%load_ext autoreload\n",
    "%autoreload 2"
   ]
  },
  {
   "cell_type": "code",
   "execution_count": null,
   "id": "488fa5cb",
   "metadata": {},
   "outputs": [],
   "source": [
    "# Only in drive or if the git repo has not been cloned locally\n",
    "# !git clone https://github.com/syrgkanislab/dynamic_synthetic_controls.git\n",
    "# cd dynamic_synthetic_controls/"
   ]
  },
  {
   "cell_type": "code",
   "execution_count": null,
   "id": "1644f73b",
   "metadata": {},
   "outputs": [],
   "source": [
    "# Add the folder to the import paths; required for importing during parallel\n",
    "# for loops.\n",
    "import os\n",
    "import sys\n",
    "sys.path.append(os.path.dirname(os.path.abspath('pcr.py')))"
   ]
  },
  {
   "cell_type": "markdown",
   "id": "d0a3d37c",
   "metadata": {},
   "source": [
    "# PCR Implementation"
   ]
  },
  {
   "cell_type": "code",
   "execution_count": null,
   "id": "43bd1e1c",
   "metadata": {},
   "outputs": [],
   "source": [
    "import matplotlib.pyplot as plt\n",
    "import numpy as np\n",
    "from sklearn.metrics import r2_score\n",
    "from sklearn.model_selection import cross_val_score"
   ]
  },
  {
   "cell_type": "code",
   "execution_count": null,
   "id": "5b5b4a30",
   "metadata": {},
   "outputs": [],
   "source": [
    "from pcr import PCR"
   ]
  },
  {
   "cell_type": "markdown",
   "id": "4b0455c1",
   "metadata": {},
   "source": [
    "# Simple: Prediction from Noisy Low-Rank Measurements"
   ]
  },
  {
   "cell_type": "code",
   "execution_count": null,
   "id": "094e9c87",
   "metadata": {},
   "outputs": [],
   "source": [
    "N = 1000\n",
    "T = 5000\n",
    "u = np.random.normal(0, 1, size=(N, 1))\n",
    "v = np.random.normal(0, 1, size=(T, 1))\n",
    "W = u @ v.T\n",
    "Z = W + np.random.normal(0, .7, size=(N, T))"
   ]
  },
  {
   "cell_type": "code",
   "execution_count": null,
   "id": "fbf9ab97",
   "metadata": {},
   "outputs": [],
   "source": [
    "X = Z[1:, :-10].T\n",
    "y = Z[0, :-10]\n",
    "Xtest = Z[1:, -10:].T\n",
    "ytest = Z[0, -10:]\n",
    "gtest = W[0, -10:]"
   ]
  },
  {
   "cell_type": "code",
   "execution_count": null,
   "id": "aecc644e",
   "metadata": {},
   "outputs": [],
   "source": [
    "cross_val_score(PCR(), X, y, scoring='r2')"
   ]
  },
  {
   "cell_type": "code",
   "execution_count": null,
   "id": "0dd7907a",
   "metadata": {},
   "outputs": [],
   "source": [
    "est = PCR().fit(X, y)"
   ]
  },
  {
   "cell_type": "code",
   "execution_count": null,
   "id": "1b5aa2d5",
   "metadata": {},
   "outputs": [],
   "source": [
    "pred_test = est.predict(Xtest)"
   ]
  },
  {
   "cell_type": "code",
   "execution_count": null,
   "id": "69a1e67f",
   "metadata": {},
   "outputs": [],
   "source": [
    "plt.plot(pred_test, label='pred')\n",
    "plt.plot(ytest, label='Y')\n",
    "plt.plot(gtest, label='E[Y]')\n",
    "plt.legend()\n",
    "plt.show()"
   ]
  },
  {
   "cell_type": "code",
   "execution_count": null,
   "id": "b4345d24",
   "metadata": {},
   "outputs": [],
   "source": [
    "plt.hist(est.coef_)\n",
    "plt.show()"
   ]
  },
  {
   "cell_type": "markdown",
   "id": "d7d7a42f",
   "metadata": {},
   "source": [
    "# Synthetic Controls with Staggered Rollout"
   ]
  },
  {
   "cell_type": "code",
   "execution_count": null,
   "id": "9e8fe02b",
   "metadata": {},
   "outputs": [],
   "source": [
    "N = 1000 # n units\n",
    "T = 5000 # n overall time periods\n",
    "K = 2 # n actions (for now has to be true)\n",
    "u = np.random.normal(0, 1, size=(N, 1)) # unit latent factors\n",
    "v = np.random.normal(0, 1, size=(K, T, 1)) # (action, time) latent factors\n",
    "W = np.einsum('ij,jtk->itk', u, v.T) # true mean potential outcomes for each unit and period\n",
    "Z = W + np.random.normal(0, .5, size=(N, T, K)) # random potential outcomes for each unit and period"
   ]
  },
  {
   "cell_type": "code",
   "execution_count": null,
   "id": "5f235241",
   "metadata": {},
   "outputs": [],
   "source": [
    "T0 = T - 10 # pre-treatment period length\n",
    "t0 = np.random.choice(np.arange(T0, T + 1), size=N, replace=True) # choose random rollout time after T0\n",
    "time = np.tile(np.arange(T), (N, 1)) # helper matrix\n",
    "A = (time >= np.tile(t0.reshape(-1, 1), (1, T))) * 1 # set treatment to 1 after rollout"
   ]
  },
  {
   "cell_type": "code",
   "execution_count": null,
   "id": "0daf92f5",
   "metadata": {},
   "outputs": [],
   "source": [
    "Zobs = Z[:, :, 0] * (1 - A) + Z[:, :, 1] * A # observed noisy outcomes\n",
    "Wobs = W[:, :, 0] * (1 - A) + W[:, :, 1] * A # observed true mean outcomes"
   ]
  },
  {
   "cell_type": "code",
   "execution_count": null,
   "id": "b1c63ff7",
   "metadata": {},
   "outputs": [],
   "source": [
    "# we only care about the first unit and we use the rest to predict\n",
    "X = Zobs[1:, :T0].T\n",
    "y = Zobs[0, :T0]\n",
    "Xtest = Zobs[1:, T0:].T\n",
    "ytest = Zobs[0, T0:]"
   ]
  },
  {
   "cell_type": "code",
   "execution_count": null,
   "id": "76d80caf",
   "metadata": {},
   "outputs": [],
   "source": [
    "t0[0] - T0"
   ]
  },
  {
   "cell_type": "code",
   "execution_count": null,
   "id": "84e780e1",
   "metadata": {},
   "outputs": [],
   "source": [
    "pred_test = np.zeros(T)\n",
    "for t in np.arange(T0, T):\n",
    "    donors = (A[1:, t] == 0) # find units that are un-treated in this post-treatment period\n",
    "    est = PCR().fit(X[:, donors], y) # find coefficients to donor units using PCR\n",
    "    pred_test[t] = est.predict(Xtest[t - T0, donors]) # predict the outcome for the target unit for this period"
   ]
  },
  {
   "cell_type": "code",
   "execution_count": null,
   "id": "252102ec",
   "metadata": {},
   "outputs": [],
   "source": [
    "t1 = T0\n",
    "t2 = T\n",
    "plt.plot(pred_test[t1:t2], label='pred(0)')\n",
    "# plt.plot(ytest, label='observed')\n",
    "plt.plot(Wobs[0, t1:t2], label='E[Y]')\n",
    "plt.plot(W[0, t1:t2, 0], label='E[Y(0)]')\n",
    "plt.axvline(t0[0] - T0 - 1, color='magenta', linestyle='--')\n",
    "plt.xticks(ticks=np.arange(t2 - t1), labels=A[0, t1:t2])\n",
    "plt.axvline(t0[0] - T0 - 1, color='magenta', linestyle='--')\n",
    "plt.xlabel('treatment per period')\n",
    "plt.legend()\n",
    "plt.show()"
   ]
  },
  {
   "cell_type": "markdown",
   "id": "5e0252c0",
   "metadata": {},
   "source": [
    "# Synthetic Interventions"
   ]
  },
  {
   "cell_type": "code",
   "execution_count": null,
   "id": "089fe3a4",
   "metadata": {},
   "outputs": [],
   "source": [
    "N = 500 # n units\n",
    "T = 5000 # n overall time periods\n",
    "K = 3 # n actions (for now has to be true)\n",
    "u = np.random.normal(0, 1, size=(N, 1)) # unit latent factors\n",
    "v = np.random.normal(0, 1, size=(K, T, 1)) # (action, time) latent factors\n",
    "W = np.einsum('ij,jtk->itk', u, v.T) # true mean potential outcomes for each unit and period\n",
    "Z = W + np.random.normal(0, 2, size=(N, T, K)) # random potential outcomes for each unit and period"
   ]
  },
  {
   "cell_type": "code",
   "execution_count": null,
   "id": "2988946e",
   "metadata": {},
   "outputs": [],
   "source": [
    "T0 = T - 10 # pre-treatment period length\n",
    "t0 = np.random.choice(np.arange(T0, T + 1), size=N, replace=True) # choose random rollout time after T0\n",
    "time = np.tile(np.arange(T), (N, 1)) # helper matrix\n",
    "A = np.random.choice(np.arange(1, K), size=(N, T), replace=True)\n",
    "A = (time >= np.tile(t0.reshape(-1, 1), (1, T))) * A # set treatment to 1 after rollout"
   ]
  },
  {
   "cell_type": "code",
   "execution_count": null,
   "id": "64228b50",
   "metadata": {},
   "outputs": [],
   "source": [
    "Zobs = Z[:, :, 0] * (A == 0) # building observed noisy outcomes\n",
    "Wobs = W[:, :, 0] * (A == 0) # building observed true mean outcomes\n",
    "for t in np.arange(1, K):\n",
    "    Zobs += Z[:, :, t] * (A == t) \n",
    "    Wobs += W[:, :, t] * (A == t)"
   ]
  },
  {
   "cell_type": "code",
   "execution_count": null,
   "id": "8820549d",
   "metadata": {},
   "outputs": [],
   "source": [
    "# we only care about the first unit and we use the rest to predict\n",
    "X = Zobs[1:, :T0].T\n",
    "y = Zobs[0, :T0]\n",
    "Xtest = Zobs[1:, T0:].T\n",
    "ytest = Zobs[0, T0:]"
   ]
  },
  {
   "cell_type": "code",
   "execution_count": null,
   "id": "8e4df940",
   "metadata": {},
   "outputs": [],
   "source": [
    "t0[0] - T0"
   ]
  },
  {
   "cell_type": "code",
   "execution_count": null,
   "id": "b9654a5e",
   "metadata": {},
   "outputs": [],
   "source": [
    "# calculate mean counterfactual outcome for each period and each potential treatment\n",
    "pred_test = np.zeros((K, T))\n",
    "for k in np.arange(K):\n",
    "    for t in np.arange(T0, T):\n",
    "        donors = (A[1:, t] == k) # find units that received treatment k in this post-treatment period\n",
    "        est = PCR().fit(X[:, donors], y) # find coefficients to donor units using PCR\n",
    "        pred_test[k, t] = est.predict(Xtest[t - T0, donors]) # predict the outcome for the target unit for this period"
   ]
  },
  {
   "cell_type": "code",
   "execution_count": null,
   "id": "163f738f",
   "metadata": {},
   "outputs": [],
   "source": [
    "t1 = T0\n",
    "t2 = T\n",
    "for k in range(K):\n",
    "    plt.figure(figsize=(15, 5))\n",
    "    plt.plot(pred_test[k, t1:t2], label=f'pred({k})')\n",
    "    plt.plot(W[0, t1:t2, k], label=f'E[Y({k})]')\n",
    "    plt.xticks(ticks=np.arange(t2 - t1), labels=A[0, t1:t2])\n",
    "    plt.axvline(t0[0] - T0 - 1, color='magenta', linestyle='--')\n",
    "    plt.xlabel('treatment per period')\n",
    "    plt.legend()\n",
    "    plt.show()"
   ]
  },
  {
   "cell_type": "markdown",
   "id": "3e3fdf4e",
   "metadata": {},
   "source": [
    "# Synthetic Blips"
   ]
  },
  {
   "cell_type": "markdown",
   "id": "4f1d5e9e",
   "metadata": {},
   "source": [
    "We generate potential outcomes as follows:\n",
    "\\begin{align}\n",
    "Y_{n,t}(a) :=~& \\sum_{\\ell=0}^{L} \\langle u_{n}, v_{t, \\ell, a_{t-\\ell}} \\rangle + \\epsilon_{n, t, \\ell, a_{t-\\ell}} &\n",
    "\\epsilon_{n, t, \\ell, a_{t-\\ell}}\\sim N(0, \\sigma^2)\n",
    "\\end{align}\n",
    "where $n\\in [N]$ denotes a unit, $t\\in [T]$ a time period and $\\ell\\in [L]$ a \"lag\". Then the observed data are $Y_{n,t} := Y_{n,t}(A_{n,1}, \\ldots, A_{n,t})$. \n",
    "\n",
    "We will denote with:\n",
    "\\begin{align}\n",
    "W_{n, t, \\ell, a} :=~& \\langle u_{n}, v_{t, \\ell, a} \\rangle &\n",
    "Z_{n, t, \\ell, a} :=~& \\langle u_{n}, v_{t, \\ell, a} \\rangle + \\epsilon_{n, t, \\ell, a_{t-\\ell}}\\\\\n",
    "\\end{align}\n",
    "Then we have that:\n",
    "\\begin{align}\n",
    "Y_{n,t}(a) =~& \\sum_{\\ell=0}^{L} Z_{n, t, \\ell, a_{t-\\ell}} &\n",
    "E[Y_{n,t}(a)] =~& \\sum_{\\ell=0}^{L} W_{n, t, \\ell, a_{t-\\ell}}\n",
    "\\end{align}\n",
    "Moreover, the blip effects are of the form:\n",
    "\\begin{align}\n",
    "\\gamma_{n,t,t-\\ell}(a) := W_{n, t, \\ell, a} - W_{n, t, \\ell, 0} = \\langle u_n, v_{t, \\ell, a} - v_{t,\\ell, 0}\\rangle\n",
    "\\end{align}\n",
    "and the baseline effect takes the form:\n",
    "\\begin{align}\n",
    "b_{n, t}(a) := \\sum_{\\ell=0}^L W_{n, t, \\ell, 0} = \\langle u_n, \\sum_{\\ell=0}^L v_{t, \\ell, 0} \\rangle\n",
    "\\end{align}"
   ]
  },
  {
   "cell_type": "code",
   "execution_count": null,
   "id": "5f0f8363",
   "metadata": {},
   "outputs": [],
   "source": [
    "N = 500 # n units\n",
    "T = 5000 # n overall time periods\n",
    "K = 3 # n actions (for now has to be true)\n",
    "L = 1 # number of lags that impact current outcome\n",
    "u = np.random.normal(0, 1, size=(N, 1)) # unit latent factors\n",
    "v = np.random.normal(0, 1, size=(K, L + 1, T, 1)) # (action, time) latent factors\n",
    "W = np.einsum('ij,jltk->iltk', u, v.T) # true mean potential blips for each unit and period and lag\n",
    "Z = W + np.random.normal(0, .4, size=(N, T, L + 1, K)) # random potential blips for each unit, period and lag"
   ]
  },
  {
   "cell_type": "code",
   "execution_count": null,
   "id": "d101302b",
   "metadata": {},
   "outputs": [],
   "source": [
    "T0 = T - 10 # pre-treatment period length\n",
    "t0 = np.random.choice(np.arange(T0, T + 1), size=N, replace=True) # choose random rollout time after T0\n",
    "time = np.tile(np.arange(T), (N, 1)) # helper matrix\n",
    "A = np.random.choice(np.arange(1, K), size=(N, T), replace=True)\n",
    "A = (time >= np.tile(t0.reshape(-1, 1), (1, T))) * A # set treatment to 1 after rollout"
   ]
  },
  {
   "cell_type": "code",
   "execution_count": null,
   "id": "05e37dfc",
   "metadata": {},
   "outputs": [],
   "source": [
    "Zobs = np.zeros(Z.shape[:2]) # building observed noisy outcomes\n",
    "Wobs = np.zeros(W.shape[:2]) # building observed true mean outcomes\n",
    "for ell in range(L + 1): # for each lag period\n",
    "    Aell = np.roll(A, ell) # we find the lag treatment for each period\n",
    "    Aell[:, :ell] = 0\n",
    "    for k in range(K):\n",
    "        Zobs += Z[:, :, ell, k] * (Aell == k) # we add the lag blip effect of that lag treatment\n",
    "        Wobs += W[:, :, ell, k] * (Aell == k) # we add the lag blip effect of that lag treatment"
   ]
  },
  {
   "cell_type": "code",
   "execution_count": null,
   "id": "97456cd6",
   "metadata": {},
   "outputs": [],
   "source": [
    "def get_true_counterfactual(unit, Atarget):\n",
    "    '''Counterfactual post-T0 mean potential outcome trajectories for unit `unit`;\n",
    "    `Atarget` contains target treatments in periods {T0, ..., T}.'''\n",
    "    Wtarget = np.zeros(T - T0) * np.nan\n",
    "    t1 = T0 + L\n",
    "    for t in np.arange(t1, T):\n",
    "        Wtarget[t - T0] = 0\n",
    "        for ell in range(L + 1): # for each lag period\n",
    "            for k in range(K):\n",
    "                # we add the lag blip effect of that lag treatment\n",
    "                Wtarget[t - T0] += W[unit, t, ell, k] * (Atarget[t - T0 - ell] == k)\n",
    "    return Wtarget"
   ]
  },
  {
   "cell_type": "markdown",
   "id": "c02275d6",
   "metadata": {},
   "source": [
    "## Synthetic Blip Algorithm\n",
    "\n",
    "### Calculation of all weights\n",
    "\n",
    "We first calculate for every unit $n$, for every action $a$ and for every time step $t >= T0$, the $N$-dimensional vector of donor weights: $\\beta_{n, t}^{I_a}$ using PCR (note that $\\beta_{n,t}^{I_a}$ is only supported on the set of donors $I_a$, but for code convenience we embded it in an $N$ dimensional space, with the non-donor coordinates being $0$). Thus we call PCR $N \\times (T-T0) \\times K$ times. We do this in parallel over the $N$ target units."
   ]
  },
  {
   "cell_type": "code",
   "execution_count": null,
   "id": "98d60643",
   "metadata": {},
   "outputs": [],
   "source": [
    "from joblib import Parallel, delayed\n",
    "\n",
    "def donor_weights(i):\n",
    "    X = Zobs[:, :T0].T\n",
    "    y = Zobs[i, :T0]\n",
    "    # calculate mean counterfactual outcome for each period and each potential treatment\n",
    "    Beta = np.zeros((K, T - T0, N))\n",
    "    for k in np.arange(K):\n",
    "        for t in np.arange(T0, T):\n",
    "            # find units that received treatment k in period t, as their first treatment in this post-treatment period\n",
    "            donors = (A[:, t] == k) & np.all(A[:, :t] == 0, axis=1)\n",
    "            est = PCR().fit(X[:, donors], y) # find coefficients to donor units using PCR\n",
    "            Beta[k, t - T0, donors] = est.coef_ # store the unit weights in the matrix Beta\n",
    "    return Beta\n",
    "\n",
    "# The matrix Beta will be of shape (n, K, T - T0, n). Each entry (i, k, t, :)\n",
    "# will contain the donor weights with target unit i, among donors which received\n",
    "# treatment k, as their first treatment and at period t.\n",
    "Beta = np.array(Parallel(n_jobs=-1, verbose=3)(delayed(donor_weights)(i) for i in range(N)))"
   ]
  },
  {
   "cell_type": "code",
   "execution_count": null,
   "id": "f4f4fa39",
   "metadata": {},
   "outputs": [],
   "source": [
    "Beta.shape # (N, K, T - T0, N)"
   ]
  },
  {
   "cell_type": "markdown",
   "id": "69b33936",
   "metadata": {},
   "source": [
    "### Calculating synthetic blips\n",
    "\n",
    "Now that we have the donor weights, we calculate the synthetic baseline response for every target unit $n$ and period $t$. Moreover, we calculate in a recursive manner, the synthetic blip effects $\\gamma_{n, t, t-\\ell}(a)$ for every target unit $n$, for every time step $t\\geq T0 + L$, and for every lag $\\ell \\in \\{0, \\ldots, L\\}$ and for every action $a\\in [K]$."
   ]
  },
  {
   "cell_type": "code",
   "execution_count": null,
   "id": "06736c18",
   "metadata": {},
   "outputs": [],
   "source": [
    "from sklearn.preprocessing import OneHotEncoder\n",
    "\n",
    "base = np.nan * np.zeros((N, T)) # baseline response for each unit and period\n",
    "blip = np.nan * np.zeros((N, T, L + 1, K)) # blip effects for each unit i, period t, lag ell and action k\n",
    "\n",
    "base_var = np.nan * np.zeros((N, T)) # TRIAL\n",
    "blip_var = np.nan * np.zeros((N, T, L + 1, K)) # TRIAL\n",
    "\n",
    "# We start producing counterfactuals starting from period T0 + L, as for earlier periods\n",
    "# we don't have enough \"lags\"\n",
    "for t in np.arange(T0 + L, T):\n",
    "\n",
    "    # for each post intervention period and unit, estimate the mean baseline response\n",
    "    base[:, t] = Beta[:, 0, t - T0, :] @ Zobs[:, t] # sum_{j\\in I_t^0} \\beta_j^{i, I_t^0} Y_{j, t}\n",
    "    \n",
    "    ### DRAFT ATTEMPT: Variance of estimate calculation\n",
    "    donors = np.abs(Beta[:, 0, t - T0, :]) > 0\n",
    "    var_base = np.mean(np.tile((Zobs[:, t] - base[:, t])**2, (N, 1)), axis=1, where=donors)\n",
    "    base_var[:, t] = var_base * np.sum(Beta[:, 0, t - T0, :]**2, axis=1)\n",
    "    ###################################################\n",
    "\n",
    "    for ell in range(L + 1):  # we construct the blip effects for lag ell\n",
    "        for k in range(K):   # and for each action k, i.e. gamma_{j, t, t-ell}(k)\n",
    "\n",
    "            # we build the \"obesrved\" blip effects; we will actually for a moment pretend that\n",
    "            # every unit is in the I_{t-ell}^k, but then all the \"wrong\" entries will be corrected\n",
    "            # by taking the inner product with the donor entries and since donor weights will only\n",
    "            # be supported on elements in I_{t-ell}^k. This is more convenient for coding purposes\n",
    "            observed_blips = Zobs[:, t] - base[:, t] # we subtract the baseline response Y_{j, t} - b_{j, t}\n",
    "\n",
    "            for ellp in range(ell): # for each smaller lag, i.e. period t - ellp, with ellp < ell\n",
    "                # we subtract the blip effect of the treatment that each unit received at period t - ellp\n",
    "                # this subtracts gamma_{j, t, t - ellp}(A_{j, t - ell})\n",
    "                ohe = OneHotEncoder(sparse=False, categories=[np.arange(K)])\n",
    "                lagAohe = ohe.fit_transform(A[:, [t - ellp]]) # this is the treatment at t-ellp\n",
    "                observed_blips -= np.sum(blip[:, t, ellp, :] * lagAohe, axis=1)\n",
    "\n",
    "            # now that we have constructed the observed blip effects for all donor units\n",
    "            # we can impute the blip effects for all units, using the donor weights\n",
    "            # we will in fact even replace the blip effects of the donor units, with their\n",
    "            # corresponding averages, which will induce variance reduction\n",
    "            blip[:, t, ell, k] = Beta[:, k, t - ell - T0, :] @ observed_blips\n",
    "\n",
    "            ### DRAFT ATTEMPT: Variance of estimate calculation\n",
    "            donors = np.abs(Beta[:, k, t - ell - T0, :]) > 0\n",
    "            donor_wsq = Beta[:, k, t - ell - T0, :]**2\n",
    "            # variance of current blip effect\n",
    "            var_blips = np.mean(np.tile((observed_blips - blip[:, t, ell, k])**2, (N, 1)), axis=1, where=donors)\n",
    "            blip_var[:, t, ell, k] = var_blips * np.sum(donor_wsq, axis=1)\n",
    "            # influence from variance of future blip effect estimation and base response estimation\n",
    "            # TODO. This influence part is wrong. The different future blip and base quantities\n",
    "            # are not independent variables with each other across units; this formula treats them as such. \n",
    "            blip_var[:, t, ell, k] += donor_wsq @ base_var[:, t]\n",
    "            for ellp in range(ell):\n",
    "                ohe = OneHotEncoder(sparse=False, categories=[np.arange(K)])\n",
    "                lagAohe = ohe.fit_transform(A[:, [t - ellp]]) # this is the treatment at t-ellp\n",
    "                blip_var[:, t, ell, k] += donor_wsq @ np.sum(blip_var[:, t, ellp, :] * lagAohe, axis=1)\n",
    "            ###################################################"
   ]
  },
  {
   "cell_type": "markdown",
   "id": "dfdd75dc",
   "metadata": {},
   "source": [
    "### Sanity Checks"
   ]
  },
  {
   "cell_type": "code",
   "execution_count": null,
   "id": "529a4e91",
   "metadata": {},
   "outputs": [],
   "source": [
    "base[0, -1], np.sqrt(base_var[0, -1]), np.sum(W[0, -1, :, 0]) # baseline response"
   ]
  },
  {
   "cell_type": "code",
   "execution_count": null,
   "id": "55760306",
   "metadata": {},
   "outputs": [],
   "source": [
    "blip[0, -1, :, 0] # should be zero"
   ]
  },
  {
   "cell_type": "code",
   "execution_count": null,
   "id": "abaf7aa0",
   "metadata": {},
   "outputs": [],
   "source": [
    "blip[0, -1, :, 1], W[0, -1, :, 1] - W[0, -1, :, 0] # matching true blip effects"
   ]
  },
  {
   "cell_type": "code",
   "execution_count": null,
   "id": "e89a5b57",
   "metadata": {},
   "outputs": [],
   "source": [
    "np.sqrt(blip_var[0, -1, :, 1])"
   ]
  },
  {
   "cell_type": "code",
   "execution_count": null,
   "id": "d12edb8e",
   "metadata": {},
   "outputs": [],
   "source": [
    "blip[0, -1, :, 2], W[0, -1, :, 2] - W[0, -1, :, 0] # matching true blip effects"
   ]
  },
  {
   "cell_type": "code",
   "execution_count": null,
   "id": "78cde8fe",
   "metadata": {},
   "outputs": [],
   "source": [
    "np.sqrt(blip_var[0, -1, :, 2])"
   ]
  },
  {
   "cell_type": "markdown",
   "id": "050efec5",
   "metadata": {},
   "source": [
    "### Plot Counterfactual Action Sequence Predictions and True Values"
   ]
  },
  {
   "cell_type": "code",
   "execution_count": null,
   "id": "f72b0106",
   "metadata": {},
   "outputs": [],
   "source": [
    "def get_pred_counterfactual(unit, Atarget):\n",
    "    pred = np.zeros(T - T0) * np.nan\n",
    "    pred_var = np.zeros(T - T0) * np.nan\n",
    "    t1 = T0 + L\n",
    "    for t in np.arange(t1, T):\n",
    "        pred[t - T0] = base[unit, t]\n",
    "        pred_var[t - T0] = base_var[unit, t]\n",
    "        for ell in range(L + 1): # for each lag period\n",
    "            for k in range(K):\n",
    "                # we add the lag blip effect of that lag treatment\n",
    "                pred[t - T0] += blip[unit, t, ell, k] * (Atarget[t - T0 - ell] == k)\n",
    "                pred_var[t - T0] += blip_var[unit, t, ell, k] * (Atarget[t - T0 - ell] == k)\n",
    "\n",
    "    return pred, pred_var"
   ]
  },
  {
   "cell_type": "code",
   "execution_count": null,
   "id": "f116284d",
   "metadata": {},
   "outputs": [],
   "source": [
    "Atarget = np.random.choice(np.arange(1, K), size=(T - T0), replace=True)\n",
    "\n",
    "plt.figure(figsize=(15, 5))\n",
    "# plt.plot(ytest, label='observed')\n",
    "xgrid = np.arange(T - T0)\n",
    "pred, pred_var = get_pred_counterfactual(0, Atarget)\n",
    "plt.plot(pred, label=f'pred(a)')\n",
    "plt.fill_between(xgrid, pred - 1.96 * np.sqrt(pred_var), pred + 1.96 * np.sqrt(pred_var), alpha=.4)\n",
    "plt.plot(get_true_counterfactual(0, Atarget), label=f'E[Y(a)]')\n",
    "plt.xticks(ticks=np.arange(T - T0), labels=Atarget)\n",
    "plt.axvline(0, color='magenta', linestyle='--')\n",
    "plt.xlabel('treatment per period')\n",
    "plt.legend()\n",
    "plt.show()"
   ]
  },
  {
   "cell_type": "code",
   "execution_count": null,
   "id": "95daddfe",
   "metadata": {},
   "outputs": [],
   "source": [
    "t1 = T0\n",
    "t2 = T\n",
    "for k in range(K):\n",
    "    Atarget = np.ones(t2 - t1) * k\n",
    "    plt.figure(figsize=(15, 5))\n",
    "    pred, pred_var = get_pred_counterfactual(0, Atarget)\n",
    "    plt.plot(pred, label=f'pred({k},...,{k})')\n",
    "    plt.fill_between(xgrid, pred - 1.96 * np.sqrt(pred_var), pred + 1.96 * np.sqrt(pred_var), alpha=.4)\n",
    "    plt.plot(get_true_counterfactual(0, Atarget), label=f'E[Y({k},...,{k})]')\n",
    "    plt.xticks(ticks=np.arange(t2 - t1), labels=Atarget)\n",
    "    plt.axvline(0, color='magenta', linestyle='--')\n",
    "    plt.xlabel('treatment per period')\n",
    "    plt.legend()\n",
    "    plt.show()"
   ]
  },
  {
   "cell_type": "markdown",
   "id": "7c496ec7",
   "metadata": {},
   "source": [
    "## Packaging Data Gen in a Class"
   ]
  },
  {
   "cell_type": "code",
   "execution_count": null,
   "id": "d3b1411f",
   "metadata": {},
   "outputs": [],
   "source": [
    "N = 50 # n units\n",
    "T = 1000 # n overall time periods\n",
    "K = 2 # n actions (for now has to be true)\n",
    "L = 1 # number of lags that impact current outcome\n",
    "T0 = T - 10 # pre-treatment period"
   ]
  },
  {
   "cell_type": "code",
   "execution_count": null,
   "id": "b5c179d3",
   "metadata": {},
   "outputs": [],
   "source": [
    "from gen_data import SynthDGP\n",
    "\n",
    "dgp = SynthDGP(N, T, K, L, T0)\n",
    "dgp.init_instance()"
   ]
  },
  {
   "cell_type": "code",
   "execution_count": null,
   "id": "98bc58d7",
   "metadata": {},
   "outputs": [],
   "source": [
    "W, Z, Wobs, Zobs, A = dgp.sample_data()"
   ]
  },
  {
   "cell_type": "markdown",
   "id": "1ad9bd5a",
   "metadata": {},
   "source": [
    "## Packaging in an Estimator Class"
   ]
  },
  {
   "cell_type": "code",
   "execution_count": null,
   "id": "a84bf6c4",
   "metadata": {},
   "outputs": [],
   "source": [
    "from synthblip import SyntheticBlip\n",
    "\n",
    "synth = SyntheticBlip().fit(Zobs, A, T0, K, L)"
   ]
  },
  {
   "cell_type": "code",
   "execution_count": null,
   "id": "c74cceaa",
   "metadata": {},
   "outputs": [],
   "source": [
    "synth.base_[0, -1], np.sqrt(synth.base_var_[0, -1]), np.sum(W[0, -1, :, 0]) # baseline response"
   ]
  },
  {
   "cell_type": "code",
   "execution_count": null,
   "id": "fa9aaed1",
   "metadata": {},
   "outputs": [],
   "source": [
    "synth.blip_[0, -1, :, 0] # should be zero"
   ]
  },
  {
   "cell_type": "code",
   "execution_count": null,
   "id": "ced1dfae",
   "metadata": {},
   "outputs": [],
   "source": [
    "synth.blip_[0, -1, :, 1], W[0, -1, :, 1] - W[0, -1, :, 0] # matching true blip effects"
   ]
  },
  {
   "cell_type": "code",
   "execution_count": null,
   "id": "3e2001ab",
   "metadata": {},
   "outputs": [],
   "source": [
    "np.sqrt(synth.blip_var_[0, -1, :, 1])"
   ]
  },
  {
   "cell_type": "code",
   "execution_count": null,
   "id": "621f2112",
   "metadata": {},
   "outputs": [],
   "source": [
    "Atarget = np.random.choice(np.arange(1, K), size=(T - T0), replace=True)\n",
    "\n",
    "plt.figure(figsize=(15, 5))\n",
    "# plt.plot(ytest, label='observed')\n",
    "xgrid = np.arange(T - T0)\n",
    "pred, pred_var = synth.predict_counterfactual(0, Atarget)\n",
    "plt.plot(pred, label=f'pred(a)')\n",
    "plt.fill_between(xgrid, pred - 1.96 * np.sqrt(pred_var), pred + 1.96 * np.sqrt(pred_var), alpha=.4)\n",
    "plt.plot(dgp.get_counterfactual(0, Atarget), label=f'E[Y(a)]')\n",
    "plt.xticks(ticks=np.arange(T - T0), labels=Atarget)\n",
    "plt.axvline(0, color='magenta', linestyle='--')\n",
    "plt.xlabel('treatment per period')\n",
    "plt.legend()\n",
    "plt.show()"
   ]
  },
  {
   "cell_type": "markdown",
   "id": "5bac9f97",
   "metadata": {},
   "source": [
    "## Coverage Experiments"
   ]
  },
  {
   "cell_type": "code",
   "execution_count": null,
   "id": "e052552d",
   "metadata": {},
   "outputs": [],
   "source": [
    "N = 500 # n units\n",
    "T = 1000 # n overall time periods\n",
    "K = 2 # n actions (for now has to be true)\n",
    "L = 1 # number of lags that impact current outcome\n",
    "T0 = T - 10 # pre-treatment period"
   ]
  },
  {
   "cell_type": "code",
   "execution_count": null,
   "id": "69f3e870",
   "metadata": {},
   "outputs": [],
   "source": [
    "from gen_data import SynthDGP\n",
    "\n",
    "dgp = SynthDGP(N, T, K, L, T0)\n",
    "dgp.init_instance(random_seed=123)"
   ]
  },
  {
   "cell_type": "code",
   "execution_count": null,
   "id": "6f84d7db",
   "metadata": {},
   "outputs": [],
   "source": [
    "np.random.seed(123)\n",
    "Atarget = np.random.choice(np.arange(1, K), size=(T - T0), replace=True)"
   ]
  },
  {
   "cell_type": "code",
   "execution_count": null,
   "id": "6fbffe01",
   "metadata": {},
   "outputs": [],
   "source": [
    "Wtarget = dgp.get_counterfactual(0, Atarget)"
   ]
  },
  {
   "cell_type": "code",
   "execution_count": null,
   "id": "81bbea49",
   "metadata": {},
   "outputs": [],
   "source": [
    "from synthblip import SyntheticBlip\n",
    "\n",
    "def exp(it):\n",
    "    print(it)\n",
    "    W, Z, Wobs, Zobs, A = dgp.sample_data(random_seed=it)\n",
    "    synth = SyntheticBlip().fit(Zobs, A, T0, K, L)\n",
    "    pred, pred_var = synth.predict_counterfactual(0, Atarget)\n",
    "    return pred, pred_var"
   ]
  },
  {
   "cell_type": "code",
   "execution_count": null,
   "id": "a4585092",
   "metadata": {},
   "outputs": [],
   "source": [
    "results = [exp(it) for it in range(100)]"
   ]
  },
  {
   "cell_type": "code",
   "execution_count": null,
   "id": "4c5bf427",
   "metadata": {},
   "outputs": [],
   "source": [
    "preds, preds_var = zip(*results)"
   ]
  },
  {
   "cell_type": "code",
   "execution_count": null,
   "id": "ce9e8c3a",
   "metadata": {},
   "outputs": [],
   "source": [
    "preds = np.array(preds)\n",
    "preds_var = np.array(preds_var)"
   ]
  },
  {
   "cell_type": "code",
   "execution_count": null,
   "id": "6fe2e996",
   "metadata": {},
   "outputs": [],
   "source": [
    "lower = preds - 1.96 * np.sqrt(preds_var)\n",
    "upper = preds + 1.96 * np.sqrt(preds_var)"
   ]
  },
  {
   "cell_type": "code",
   "execution_count": null,
   "id": "9687a7e9",
   "metadata": {},
   "outputs": [],
   "source": [
    "coverage = (lower <= Wtarget) & (Wtarget <= upper)"
   ]
  },
  {
   "cell_type": "code",
   "execution_count": null,
   "id": "253a2ae7",
   "metadata": {},
   "outputs": [],
   "source": [
    "np.mean(coverage, axis=0)"
   ]
  },
  {
   "cell_type": "code",
   "execution_count": null,
   "id": "929e3b1b",
   "metadata": {},
   "outputs": [],
   "source": []
  }
 ],
 "metadata": {
  "kernelspec": {
   "display_name": "Python 3 (ipykernel)",
   "language": "python",
   "name": "python3"
  },
  "language_info": {
   "codemirror_mode": {
    "name": "ipython",
    "version": 3
   },
   "file_extension": ".py",
   "mimetype": "text/x-python",
   "name": "python",
   "nbconvert_exporter": "python",
   "pygments_lexer": "ipython3",
   "version": "3.12.3"
  }
 },
 "nbformat": 4,
 "nbformat_minor": 5
}
