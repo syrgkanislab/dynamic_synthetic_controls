{
 "cells": [
  {
   "cell_type": "markdown",
   "id": "d0a3d37c",
   "metadata": {},
   "source": [
    "# PCR Implementation"
   ]
  },
  {
   "cell_type": "code",
   "execution_count": null,
   "id": "43bd1e1c",
   "metadata": {},
   "outputs": [],
   "source": [
    "import matplotlib.pyplot as plt\n",
    "import numpy as np\n",
    "from sklearn.metrics import r2_score\n",
    "from sklearn.base import BaseEstimator\n",
    "import scipy.linalg\n",
    "from sklearn.decomposition import TruncatedSVD\n",
    "from sklearn.model_selection import cross_val_score"
   ]
  },
  {
   "cell_type": "code",
   "execution_count": null,
   "id": "5b5b4a30",
   "metadata": {},
   "outputs": [],
   "source": [
    "class PCR(BaseEstimator):\n",
    "    \n",
    "    def __init__(self, n_components=1):\n",
    "        self.n_components = n_components\n",
    "    \n",
    "    def fit(self, X, y):\n",
    "        tr = TruncatedSVD(n_components=self.n_components).fit(X)\n",
    "        X = tr.transform(X)\n",
    "        X = tr.inverse_transform(X)\n",
    "        self.coef_ = scipy.linalg.pinv(X.T @ X) @ X.T @ y\n",
    "        return self\n",
    "\n",
    "    def predict(self, X):\n",
    "        return X @ self.coef_"
   ]
  },
  {
   "cell_type": "markdown",
   "id": "4b0455c1",
   "metadata": {},
   "source": [
    "# Simple: Prediction from Noisy Low-Rank Measurements"
   ]
  },
  {
   "cell_type": "code",
   "execution_count": null,
   "id": "094e9c87",
   "metadata": {},
   "outputs": [],
   "source": [
    "n = 1000\n",
    "T = 5000\n",
    "u = np.random.normal(0, 1, size=(n, 1))\n",
    "v = np.random.normal(0, 1, size=(T, 1))\n",
    "W = u @ v.T\n",
    "Z = W + np.random.normal(0, .7, size=(n, T))"
   ]
  },
  {
   "cell_type": "code",
   "execution_count": null,
   "id": "fbf9ab97",
   "metadata": {},
   "outputs": [],
   "source": [
    "X = Z[1:, :-10].T\n",
    "y = Z[0, :-10]\n",
    "Xtest = Z[1:, -10:].T\n",
    "ytest = Z[0, -10:]\n",
    "gtest = W[0, -10:]"
   ]
  },
  {
   "cell_type": "code",
   "execution_count": null,
   "id": "aecc644e",
   "metadata": {},
   "outputs": [],
   "source": [
    "cross_val_score(PCR(), X, y, scoring='r2')"
   ]
  },
  {
   "cell_type": "code",
   "execution_count": null,
   "id": "0dd7907a",
   "metadata": {},
   "outputs": [],
   "source": [
    "est = PCR().fit(X, y)"
   ]
  },
  {
   "cell_type": "code",
   "execution_count": null,
   "id": "1b5aa2d5",
   "metadata": {},
   "outputs": [],
   "source": [
    "pred_test = est.predict(Xtest)"
   ]
  },
  {
   "cell_type": "code",
   "execution_count": null,
   "id": "69a1e67f",
   "metadata": {},
   "outputs": [],
   "source": [
    "plt.plot(pred_test, label='pred')\n",
    "plt.plot(ytest, label='Y')\n",
    "plt.plot(gtest, label='E[Y]')\n",
    "plt.legend()\n",
    "plt.show()"
   ]
  },
  {
   "cell_type": "code",
   "execution_count": null,
   "id": "b4345d24",
   "metadata": {},
   "outputs": [],
   "source": [
    "plt.hist(est.coef_)\n",
    "plt.show()"
   ]
  },
  {
   "cell_type": "markdown",
   "id": "d7d7a42f",
   "metadata": {},
   "source": [
    "# Synthetic Controls with Staggered Rollout"
   ]
  },
  {
   "cell_type": "code",
   "execution_count": null,
   "id": "9e8fe02b",
   "metadata": {},
   "outputs": [],
   "source": [
    "n = 1000 # n units\n",
    "T = 5000 # n overall time periods\n",
    "K = 2 # n actions (for now has to be true)\n",
    "u = np.random.normal(0, 1, size=(n, 1)) # unit latent factors\n",
    "v = np.random.normal(0, 1, size=(K, T, 1)) # (action, time) latent factors\n",
    "W = np.einsum('ij,jtk->itk', u, v.T) # true mean potential outcomes for each unit and period\n",
    "Z = W + np.random.normal(0, 1, size=(n, T, K)) # random potential outcomes for each unit and period"
   ]
  },
  {
   "cell_type": "code",
   "execution_count": null,
   "id": "5f235241",
   "metadata": {},
   "outputs": [],
   "source": [
    "T0 = T - 10 # pre-treatment period length\n",
    "t0 = np.random.choice(np.arange(T0, T + 1), size=n, replace=True) # choose random rollout time after T0\n",
    "time = np.tile(np.arange(T), (n, 1)) # helper matrix\n",
    "D = (time >= np.tile(t0.reshape(-1, 1), (1, T))) * 1 # set treatment to 1 after rollout"
   ]
  },
  {
   "cell_type": "code",
   "execution_count": null,
   "id": "0daf92f5",
   "metadata": {},
   "outputs": [],
   "source": [
    "Zobs = Z[:, :, 0] * (1 - D) + Z[:, :, 1] * D # observed noisy outcomes\n",
    "Wobs = W[:, :, 0] * (1 - D) + W[:, :, 1] * D # observed true mean outcomes"
   ]
  },
  {
   "cell_type": "code",
   "execution_count": null,
   "id": "b1c63ff7",
   "metadata": {},
   "outputs": [],
   "source": [
    "# we only care about the first unit and we use the rest to predict\n",
    "X = Zobs[1:, :T0].T\n",
    "y = Zobs[0, :T0]\n",
    "Xtest = Zobs[1:, T0:].T\n",
    "ytest = Zobs[0, T0:]"
   ]
  },
  {
   "cell_type": "code",
   "execution_count": null,
   "id": "76d80caf",
   "metadata": {},
   "outputs": [],
   "source": [
    "t0[0] - T0"
   ]
  },
  {
   "cell_type": "code",
   "execution_count": null,
   "id": "84e780e1",
   "metadata": {},
   "outputs": [],
   "source": [
    "pred_test = np.zeros(T)\n",
    "for t in np.arange(T0, T):\n",
    "    donors = (D[1:, t] == 0) # find units that are un-treated in this post-treatment period\n",
    "    est = PCR().fit(X[:, donors], y) # find coefficients to donor units using PCR\n",
    "    pred_test[t] = est.predict(Xtest[t - T0, donors]) # predict the outcome for the target unit for this period"
   ]
  },
  {
   "cell_type": "code",
   "execution_count": null,
   "id": "252102ec",
   "metadata": {},
   "outputs": [],
   "source": [
    "t1 = T0\n",
    "t2 = T\n",
    "plt.plot(pred_test[t1:t2], label='pred')\n",
    "# plt.plot(ytest, label='observed')\n",
    "plt.plot(Wobs[0, t1:t2], label='E[Y]')\n",
    "plt.plot(W[0, t1:t2, 0], label='E[Y(0)]')\n",
    "plt.axvline(t0[0] - T0 - 1, color='magenta', linestyle='--')\n",
    "plt.xticks(ticks=np.arange(t2 - t1), labels=D[0, t1:t2])\n",
    "plt.axvline(t0[0] - T0 - 1, color='magenta', linestyle='--')\n",
    "plt.xlabel('treatment per period')\n",
    "plt.legend()\n",
    "plt.show()"
   ]
  },
  {
   "cell_type": "markdown",
   "id": "5e0252c0",
   "metadata": {},
   "source": [
    "# Synthetic Interventions"
   ]
  },
  {
   "cell_type": "code",
   "execution_count": null,
   "id": "089fe3a4",
   "metadata": {},
   "outputs": [],
   "source": [
    "n = 1000 # n units\n",
    "T = 5000 # n overall time periods\n",
    "K = 3 # n actions (for now has to be true)\n",
    "u = np.random.normal(0, 1, size=(n, 1)) # unit latent factors\n",
    "v = np.random.normal(0, 1, size=(K, T, 1)) # (action, time) latent factors\n",
    "W = np.einsum('ij,jtk->itk', u, v.T) # true mean potential outcomes for each unit and period\n",
    "Z = W + np.random.normal(0, 1, size=(n, T, K)) # random potential outcomes for each unit and period"
   ]
  },
  {
   "cell_type": "code",
   "execution_count": null,
   "id": "2988946e",
   "metadata": {},
   "outputs": [],
   "source": [
    "T0 = T - 10 # pre-treatment period length\n",
    "t0 = np.random.choice(np.arange(T0, T + 1), size=n, replace=True) # choose random rollout time after T0\n",
    "time = np.tile(np.arange(T), (n, 1)) # helper matrix\n",
    "D = np.random.choice(np.arange(1, K), size=(n, T), replace=True)\n",
    "D = (time >= np.tile(t0.reshape(-1, 1), (1, T))) * D # set treatment to 1 after rollout"
   ]
  },
  {
   "cell_type": "code",
   "execution_count": null,
   "id": "64228b50",
   "metadata": {},
   "outputs": [],
   "source": [
    "Zobs = Z[:, :, 0] * (D == 0) # building observed noisy outcomes\n",
    "Wobs = W[:, :, 0] * (D == 0) # building observed true mean outcomes\n",
    "for t in np.arange(1, K):\n",
    "    Zobs += Z[:, :, t] * (D == t) \n",
    "    Wobs += W[:, :, t] * (D == t)"
   ]
  },
  {
   "cell_type": "code",
   "execution_count": null,
   "id": "8820549d",
   "metadata": {},
   "outputs": [],
   "source": [
    "# we only care about the first unit and we use the rest to predict\n",
    "X = Zobs[1:, :T0].T\n",
    "y = Zobs[0, :T0]\n",
    "Xtest = Zobs[1:, T0:].T\n",
    "ytest = Zobs[0, T0:]"
   ]
  },
  {
   "cell_type": "code",
   "execution_count": null,
   "id": "8e4df940",
   "metadata": {},
   "outputs": [],
   "source": [
    "t0[0] - T0"
   ]
  },
  {
   "cell_type": "code",
   "execution_count": null,
   "id": "b9654a5e",
   "metadata": {},
   "outputs": [],
   "source": [
    "# calculate mean counterfactual outcome for each period and each potential treatment\n",
    "pred_test = np.zeros((K, T))\n",
    "for k in np.arange(K):\n",
    "    for t in np.arange(T0, T):\n",
    "        donors = (D[1:, t] == k) # find units that received treatment k in this post-treatment period\n",
    "        est = PCR().fit(X[:, donors], y) # find coefficients to donor units using PCR\n",
    "        pred_test[k, t] = est.predict(Xtest[t - T0, donors]) # predict the outcome for the target unit for this period"
   ]
  },
  {
   "cell_type": "code",
   "execution_count": null,
   "id": "163f738f",
   "metadata": {},
   "outputs": [],
   "source": [
    "t1 = T0\n",
    "t2 = T\n",
    "for k in range(K):\n",
    "    plt.figure(figsize=(15, 5))\n",
    "    # plt.plot(ytest, label='observed')\n",
    "    plt.plot(Wobs[0, t1:t2], label='E[Y]')\n",
    "    plt.plot(pred_test[k, t1:t2], label=f'pred({k})')\n",
    "    plt.plot(W[0, t1:t2, k], label=f'E[Y({k})]')\n",
    "    plt.xticks(ticks=np.arange(t2 - t1), labels=D[0, t1:t2])\n",
    "    plt.axvline(t0[0] - T0 - 1, color='magenta', linestyle='--')\n",
    "    plt.xlabel('treatment per period')\n",
    "    plt.legend()\n",
    "    plt.show()"
   ]
  },
  {
   "cell_type": "markdown",
   "id": "37b39a44",
   "metadata": {},
   "source": [
    "# Synthetic Blips"
   ]
  },
  {
   "cell_type": "code",
   "execution_count": null,
   "id": "86ab151e",
   "metadata": {},
   "outputs": [],
   "source": [
    "n = 1000 # n units\n",
    "T = 5000 # n overall time periods\n",
    "K = 3 # n actions (for now has to be true)\n",
    "lags = 2 # number of lags that impact current outcome\n",
    "u = np.random.normal(0, 1, size=(n, 1)) # unit latent factors\n",
    "v = np.random.normal(0, 1, size=(K, lags, T, 1)) # (action, time) latent factors\n",
    "W = np.einsum('ij,jltk->iltk', u, v.T) # true mean potential blips for each unit and period and lag\n",
    "Z = W + np.random.normal(0, 1, size=(n, T, lags, K)) # random potential blips for each unit, period and lag"
   ]
  },
  {
   "cell_type": "code",
   "execution_count": null,
   "id": "239a088a",
   "metadata": {},
   "outputs": [],
   "source": [
    "T0 = T - 10 # pre-treatment period length\n",
    "t0 = np.random.choice(np.arange(T0, T + 1), size=n, replace=True) # choose random rollout time after T0\n",
    "time = np.tile(np.arange(T), (n, 1)) # helper matrix\n",
    "D = np.random.choice(np.arange(1, K), size=(n, T), replace=True)\n",
    "D = (time >= np.tile(t0.reshape(-1, 1), (1, T))) * D # set treatment to 1 after rollout"
   ]
  },
  {
   "cell_type": "code",
   "execution_count": null,
   "id": "8d5e638d",
   "metadata": {},
   "outputs": [],
   "source": [
    "Zobs = np.zeros(Z.shape[:2]) # building observed noisy outcomes\n",
    "Wobs = np.zeros(W.shape[:2]) # building observed true mean outcomes\n",
    "for ell in range(lags): # for each lag period\n",
    "    Dell = np.roll(D, ell) # we find the lag treatment for each period\n",
    "    Dell[:, :ell] = 0\n",
    "    for k in range(K):\n",
    "        Zobs += Z[:, :, ell, k] * (Dell == k) # we add the lag blip effect of that lag treatment\n",
    "        Wobs += W[:, :, ell, k] * (Dell == k) # we add the lag blip effect of that lag treatment"
   ]
  },
  {
   "cell_type": "code",
   "execution_count": null,
   "id": "b2bbf131",
   "metadata": {},
   "outputs": [],
   "source": [
    "t0[0] - T0"
   ]
  },
  {
   "cell_type": "code",
   "execution_count": null,
   "id": "8a060d56",
   "metadata": {},
   "outputs": [],
   "source": [
    "from joblib import Parallel, delayed\n",
    "\n",
    "def donor_weights(i):\n",
    "    X = Zobs[:, :T0].T\n",
    "    y = Zobs[i, :T0]\n",
    "    # calculate mean counterfactual outcome for each period and each potential treatment\n",
    "    Beta = np.zeros((K, T - T0, n))\n",
    "    for k in np.arange(K):\n",
    "        for t in np.arange(T0, T):\n",
    "            # find units that received treatment k in period t, as their first treatment in this post-treatment period\n",
    "            donors = (D[:, t] == k) & np.all(D[:, :t] == 0, axis=1)\n",
    "            est = PCR().fit(X[:, donors], y) # find coefficients to donor units using PCR\n",
    "            Beta[k, t - T0, donors] = est.coef_ # store the unit weights in the matrix Beta\n",
    "    return Beta\n",
    "\n",
    "# The matrix Beta will be of shape (n, K, T - T0, n). Each entry (i, k, t, :)\n",
    "# will contain the donor weights with target unit i, among donors which received\n",
    "# treatment k, as their first treatment and at period t.\n",
    "Beta = np.array(Parallel(n_jobs=-1, verbose=3)(delayed(donor_weights)(i) for i in range(n)))"
   ]
  },
  {
   "cell_type": "code",
   "execution_count": null,
   "id": "39f4d5a6",
   "metadata": {},
   "outputs": [],
   "source": [
    "Beta.shape"
   ]
  },
  {
   "cell_type": "code",
   "execution_count": null,
   "id": "44702ebb",
   "metadata": {},
   "outputs": [],
   "source": [
    "from sklearn.preprocessing import OneHotEncoder\n",
    "\n",
    "base = np.zeros((n, T)) # baseline response for each unit and period\n",
    "blip = np.zeros((n, T, lags, K)) # blip effects for each unit i, period t, lag ell and action k\n",
    "for t in np.arange(T0, T):\n",
    "    # for each post intervention period and unit estimate the mean baseline response\n",
    "    base[:, t] = Beta[:, 0, t - T0, :] @ Zobs[:, t] # sum_{j\\in I_t^0} \\beta_j^{i, I_t^0} Y_{j, t}\n",
    "    for ell in range(lags):  # we construct the blip effect for lag ell\n",
    "        for k in range(K):   # and for each action k, i.e. gamma_{j, t, t-ell}(k)\n",
    "            # we build the obesrve blip effects; we will actually for a moment pretend that\n",
    "            # every unit is in the I_{t-ell}^k, but then all the \"wrong\" entries will be corrected\n",
    "            # by taking the inner product with the donor entries and since donor weights will only\n",
    "            # be supported on elements in I_{t-ell}^k\n",
    "            blip[:, t, ell, k] = Zobs[:, t - ell] - base[:, t] # we subtract the baseline response Y_{j, t} - b_{j, t}\n",
    "            for ellp in range(ell): # for each smaller lag, i.e. period t - ellp, with ellp < ell\n",
    "                # we subtract the blip effect of the treatment that each unit received at period t - ellp\n",
    "                # this subtracts gamma_{j, t, t - ellp}(A_{j, t - ell})\n",
    "                lagDohe = OneHotEncoder(sparse=False).fit_transform(D[:, [t - ellp]]) # this is the treatment at t-ellp\n",
    "                blip[:, t, ell, k] -= np.sum(blip[:, t, ellp, :] * lagDohe, axis=1)\n",
    "            # now that we have constructed the observed blip effects for all donor units\n",
    "            # we can impute the blip effects for all units, using the donor weights\n",
    "            # we will in fact even replace the blip effects of the donor units, with their\n",
    "            # corresponding averages, which will induce variance reduction\n",
    "            blip[:, t, ell, k] = Beta[:, k, t - ell - T0, :] @ blip[:, t, ell, k]"
   ]
  },
  {
   "cell_type": "code",
   "execution_count": null,
   "id": "bd79880c",
   "metadata": {},
   "outputs": [],
   "source": [
    "Dtarget = np.zeros(T - T0)\n",
    "Dtarget[-2:] = 2"
   ]
  },
  {
   "cell_type": "code",
   "execution_count": null,
   "id": "9a955716",
   "metadata": {},
   "outputs": [],
   "source": [
    "Wtarget = 0\n",
    "for ell in range(lags): # for each lag period\n",
    "    for k in range(K):\n",
    "        Wtarget += W[0, -1, ell, k] * (Dtarget[-1 - ell] == k) # we add the lag blip effect of that lag treatment"
   ]
  },
  {
   "cell_type": "code",
   "execution_count": null,
   "id": "d1cf8d1b",
   "metadata": {},
   "outputs": [],
   "source": [
    "Wtarget"
   ]
  },
  {
   "cell_type": "code",
   "execution_count": null,
   "id": "146a9949",
   "metadata": {},
   "outputs": [],
   "source": [
    "Wtarget = base[0, -1]\n",
    "for ell in range(lags): # for each lag period\n",
    "    for k in range(K):\n",
    "        Wtarget += blip[0, -1, ell, k] * (Dtarget[-1 - ell] == k) # we add the lag blip effect of that lag treatment"
   ]
  },
  {
   "cell_type": "code",
   "execution_count": null,
   "id": "7c03099b",
   "metadata": {},
   "outputs": [],
   "source": [
    "Wtarget"
   ]
  },
  {
   "cell_type": "code",
   "execution_count": null,
   "id": "dfb23b7b",
   "metadata": {},
   "outputs": [],
   "source": []
  }
 ],
 "metadata": {
  "kernelspec": {
   "display_name": "Python 3 (ipykernel)",
   "language": "python",
   "name": "python3"
  },
  "language_info": {
   "codemirror_mode": {
    "name": "ipython",
    "version": 3
   },
   "file_extension": ".py",
   "mimetype": "text/x-python",
   "name": "python",
   "nbconvert_exporter": "python",
   "pygments_lexer": "ipython3",
   "version": "3.9.13"
  }
 },
 "nbformat": 4,
 "nbformat_minor": 5
}
