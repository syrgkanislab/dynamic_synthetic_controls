{
 "cells": [
  {
   "cell_type": "markdown",
   "id": "d0a3d37c",
   "metadata": {},
   "source": [
    "# PCR Implementation"
   ]
  },
  {
   "cell_type": "code",
   "execution_count": null,
   "id": "43bd1e1c",
   "metadata": {},
   "outputs": [],
   "source": [
    "import matplotlib.pyplot as plt\n",
    "import numpy as np\n",
    "from sklearn.metrics import r2_score\n",
    "from sklearn.base import BaseEstimator\n",
    "import scipy.linalg\n",
    "from sklearn.decomposition import TruncatedSVD\n",
    "from sklearn.model_selection import cross_val_score"
   ]
  },
  {
   "cell_type": "code",
   "execution_count": null,
   "id": "5b5b4a30",
   "metadata": {},
   "outputs": [],
   "source": [
    "class PCR(BaseEstimator):\n",
    "    \n",
    "    def __init__(self, n_components=1):\n",
    "        self.n_components = n_components\n",
    "    \n",
    "    def fit(self, X, y):\n",
    "        tr = TruncatedSVD(n_components=self.n_components).fit(X)\n",
    "        X = tr.transform(X)\n",
    "        X = tr.inverse_transform(X)\n",
    "        self.coef_ = scipy.linalg.pinv(X.T @ X) @ X.T @ y\n",
    "        return self\n",
    "\n",
    "    def predict(self, X):\n",
    "        return X @ self.coef_"
   ]
  },
  {
   "cell_type": "markdown",
   "id": "4b0455c1",
   "metadata": {},
   "source": [
    "# Simple: Prediction from Noisy Low-Rank Measurements"
   ]
  },
  {
   "cell_type": "code",
   "execution_count": null,
   "id": "094e9c87",
   "metadata": {},
   "outputs": [],
   "source": [
    "n = 1000\n",
    "T = 5000\n",
    "u = np.random.normal(0, 1, size=(n, 1))\n",
    "v = np.random.normal(0, 1, size=(T, 1))\n",
    "W = u @ v.T\n",
    "Z = W + np.random.normal(0, .7, size=(n, T))"
   ]
  },
  {
   "cell_type": "code",
   "execution_count": null,
   "id": "fbf9ab97",
   "metadata": {},
   "outputs": [],
   "source": [
    "X = Z[1:, :-10].T\n",
    "y = Z[0, :-10]\n",
    "Xtest = Z[1:, -10:].T\n",
    "ytest = Z[0, -10:]\n",
    "gtest = W[0, -10:]"
   ]
  },
  {
   "cell_type": "code",
   "execution_count": null,
   "id": "aecc644e",
   "metadata": {},
   "outputs": [],
   "source": [
    "cross_val_score(PCR(), X, y, scoring='r2')"
   ]
  },
  {
   "cell_type": "code",
   "execution_count": null,
   "id": "0dd7907a",
   "metadata": {},
   "outputs": [],
   "source": [
    "est = PCR().fit(X, y)"
   ]
  },
  {
   "cell_type": "code",
   "execution_count": null,
   "id": "1b5aa2d5",
   "metadata": {},
   "outputs": [],
   "source": [
    "pred_test = est.predict(Xtest)"
   ]
  },
  {
   "cell_type": "code",
   "execution_count": null,
   "id": "69a1e67f",
   "metadata": {},
   "outputs": [],
   "source": [
    "plt.plot(pred_test, label='pred')\n",
    "plt.plot(ytest, label='noisy obs')\n",
    "plt.plot(gtest, label='true mean')\n",
    "plt.legend()\n",
    "plt.show()"
   ]
  },
  {
   "cell_type": "code",
   "execution_count": null,
   "id": "b4345d24",
   "metadata": {},
   "outputs": [],
   "source": [
    "plt.hist(est.coef_)\n",
    "plt.show()"
   ]
  },
  {
   "cell_type": "markdown",
   "id": "d7d7a42f",
   "metadata": {},
   "source": [
    "# Synthetic Controls with Staggered Rollout"
   ]
  },
  {
   "cell_type": "code",
   "execution_count": null,
   "id": "9e8fe02b",
   "metadata": {},
   "outputs": [],
   "source": [
    "n = 1000 # n units\n",
    "T = 5000 # n overall time periods\n",
    "K = 2 # n actions (for now has to be true)\n",
    "u = np.random.normal(0, 1, size=(n, 1)) # unit latent factors\n",
    "v = np.random.normal(0, 1, size=(K, T, 1)) # (action, time) latent factors\n",
    "W = np.einsum('ij,jtk->itk', u, v.T) # true mean potential outcomes for each unit and period\n",
    "Z = W + np.random.normal(0, 1, size=(n, T, K)) # random potential outcomes for each unit and period"
   ]
  },
  {
   "cell_type": "code",
   "execution_count": null,
   "id": "5f235241",
   "metadata": {},
   "outputs": [],
   "source": [
    "T0 = T - 10 # pre-treatment period length\n",
    "t0 = np.random.choice(np.arange(T0, T + 1), size=n, replace=True) # choose random rollout time after T0\n",
    "time = np.tile(np.arange(T), (n, 1)) # helper matrix\n",
    "D = (time >= np.tile(t0.reshape(-1, 1), (1, T))) * 1 # set treatment to 1 after rollout"
   ]
  },
  {
   "cell_type": "code",
   "execution_count": null,
   "id": "0daf92f5",
   "metadata": {},
   "outputs": [],
   "source": [
    "Zobs = Z[:, :, 0] * (1 - D) + Z[:, :, 1] * D # observed noisy outcomes\n",
    "Wobs = W[:, :, 0] * (1 - D) + W[:, :, 1] * D # observed true mean outcomes"
   ]
  },
  {
   "cell_type": "code",
   "execution_count": null,
   "id": "b1c63ff7",
   "metadata": {},
   "outputs": [],
   "source": [
    "# we only care about the first unit and we use the rest to predict\n",
    "X = Zobs[1:, :T0].T\n",
    "y = Zobs[0, :T0]\n",
    "Xtest = Zobs[1:, T0:].T\n",
    "ytest = Zobs[0, T0:]"
   ]
  },
  {
   "cell_type": "code",
   "execution_count": null,
   "id": "76d80caf",
   "metadata": {},
   "outputs": [],
   "source": [
    "t0[0] - T0"
   ]
  },
  {
   "cell_type": "code",
   "execution_count": null,
   "id": "84e780e1",
   "metadata": {},
   "outputs": [],
   "source": [
    "pred_test = np.zeros(T)\n",
    "for t in np.arange(T0, T):\n",
    "    donors = (D[1:, t] == 0) # find units that are un-treated in this post-treatment period\n",
    "    est = PCR().fit(X[:, donors], y) # find coefficients to donor units using PCR\n",
    "    pred_test[t] = est.predict(Xtest[t - T0, donors]) # predict the outcome for the target unit for this period"
   ]
  },
  {
   "cell_type": "code",
   "execution_count": null,
   "id": "252102ec",
   "metadata": {},
   "outputs": [],
   "source": [
    "t1 = T0\n",
    "t2 = T\n",
    "plt.plot(pred_test[t1:t2], label='pred')\n",
    "# plt.plot(ytest, label='observed')\n",
    "plt.plot(Wobs[0, t1:t2], label='E[Y]')\n",
    "plt.plot(W[0, t1:t2, 0], label='E[Y(0)]')\n",
    "plt.axvline(t0[0] - T0, color='magenta', linestyle='--')\n",
    "plt.legend()\n",
    "plt.show()"
   ]
  },
  {
   "cell_type": "markdown",
   "id": "5e0252c0",
   "metadata": {},
   "source": [
    "# Synthetic Interventions"
   ]
  },
  {
   "cell_type": "code",
   "execution_count": null,
   "id": "089fe3a4",
   "metadata": {},
   "outputs": [],
   "source": [
    "n = 1000 # n units\n",
    "T = 5000 # n overall time periods\n",
    "K = 3 # n actions (for now has to be true)\n",
    "u = np.random.normal(0, 1, size=(n, 1)) # unit latent factors\n",
    "v = np.random.normal(0, 1, size=(K, T, 1)) # (action, time) latent factors\n",
    "W = np.einsum('ij,jtk->itk', u, v.T) # true mean potential outcomes for each unit and period\n",
    "Z = W + np.random.normal(0, 1, size=(n, T, K)) # random potential outcomes for each unit and period"
   ]
  },
  {
   "cell_type": "code",
   "execution_count": null,
   "id": "2988946e",
   "metadata": {},
   "outputs": [],
   "source": [
    "T0 = T - 10 # pre-treatment period length\n",
    "t0 = np.random.choice(np.arange(T0, T + 1), size=n, replace=True) # choose random rollout time after T0\n",
    "time = np.tile(np.arange(T), (n, 1)) # helper matrix\n",
    "D = np.random.choice(np.arange(1, K), size=(n, T), replace=True)\n",
    "D = (time >= np.tile(t0.reshape(-1, 1), (1, T))) * D # set treatment to 1 after rollout"
   ]
  },
  {
   "cell_type": "code",
   "execution_count": null,
   "id": "64228b50",
   "metadata": {},
   "outputs": [],
   "source": [
    "Zobs = Z[:, :, 0] * (D == 0) # building observed noisy outcomes\n",
    "Wobs = W[:, :, 0] * (D == 0) # building observed true mean outcomes\n",
    "for t in np.arange(1, K):\n",
    "    Zobs += Z[:, :, t] * (D == t) \n",
    "    Wobs += W[:, :, t] * (D == t)"
   ]
  },
  {
   "cell_type": "code",
   "execution_count": null,
   "id": "8820549d",
   "metadata": {},
   "outputs": [],
   "source": [
    "# we only care about the first unit and we use the rest to predict\n",
    "X = Zobs[1:, :T0].T\n",
    "y = Zobs[0, :T0]\n",
    "Xtest = Zobs[1:, T0:].T\n",
    "ytest = Zobs[0, T0:]"
   ]
  },
  {
   "cell_type": "code",
   "execution_count": null,
   "id": "8e4df940",
   "metadata": {},
   "outputs": [],
   "source": [
    "t0[0] - T0"
   ]
  },
  {
   "cell_type": "code",
   "execution_count": null,
   "id": "b9654a5e",
   "metadata": {},
   "outputs": [],
   "source": [
    "# calculate mean counterfactual outcome for each period and each potential treatment\n",
    "pred_test = np.zeros((K, T))\n",
    "for k in np.arange(K):\n",
    "    for t in np.arange(T0, T):\n",
    "        donors = (D[1:, t] == k) # find units that received treatment k in this post-treatment period\n",
    "        est = PCR().fit(X[:, donors], y) # find coefficients to donor units using PCR\n",
    "        pred_test[k, t] = est.predict(Xtest[t - T0, donors]) # predict the outcome for the target unit for this period"
   ]
  },
  {
   "cell_type": "code",
   "execution_count": null,
   "id": "163f738f",
   "metadata": {},
   "outputs": [],
   "source": [
    "t1 = T0\n",
    "t2 = T\n",
    "for k in range(K):\n",
    "    plt.figure(figsize=(15, 5))\n",
    "    # plt.plot(ytest, label='observed')\n",
    "    plt.plot(Wobs[0, t1:t2], label='E[Y]')\n",
    "    plt.plot(pred_test[k, t1:t2], label=f'pred({k})')\n",
    "    plt.plot(W[0, t1:t2, k], label=f'E[Y({k})]')\n",
    "    plt.xticks(ticks=np.arange(t2 - t1), labels=D[0, t1:t2])\n",
    "    plt.axvline(t0[0] - T0, color='magenta', linestyle='--')\n",
    "    plt.xlabel('treatment per period')\n",
    "    plt.legend()\n",
    "    plt.show()"
   ]
  },
  {
   "cell_type": "code",
   "execution_count": null,
   "id": "a643b4cc",
   "metadata": {},
   "outputs": [],
   "source": []
  }
 ],
 "metadata": {
  "kernelspec": {
   "display_name": "Python 3 (ipykernel)",
   "language": "python",
   "name": "python3"
  },
  "language_info": {
   "codemirror_mode": {
    "name": "ipython",
    "version": 3
   },
   "file_extension": ".py",
   "mimetype": "text/x-python",
   "name": "python",
   "nbconvert_exporter": "python",
   "pygments_lexer": "ipython3",
   "version": "3.9.13"
  }
 },
 "nbformat": 4,
 "nbformat_minor": 5
}
